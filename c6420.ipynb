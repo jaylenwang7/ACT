{
 "cells": [
  {
   "cell_type": "code",
   "execution_count": 17,
   "metadata": {},
   "outputs": [],
   "source": [
    "from dram_model import Fab_DRAM\n",
    "from hdd_model  import Fab_HDD\n",
    "from ssd_model  import Fab_SSD\n",
    "from logic_model  import Fab_Logic"
   ]
  },
  {
   "cell_type": "code",
   "execution_count": 18,
   "metadata": {},
   "outputs": [],
   "source": [
    "# CPU\n",
    "# NEW: 76.0mm x 56.5mm = 4294mm^2 = 42.94cm^2\n",
    "# OLD: 52.5mm x 45mm = 2362.5mm^2 = 23.625cm^2\n",
    "cpu_package_area    = 42.94\n",
    "package_to_die_area = 0.5\n",
    "cpu_area            = cpu_package_area * (1 - package_to_die_area)\n",
    "num_cpu             = 2\n",
    "process_node        = 14"
   ]
  },
  {
   "cell_type": "code",
   "execution_count": 19,
   "metadata": {},
   "outputs": [],
   "source": [
    "# HDD\n",
    "hdd_capacity    = 1 # TB\n",
    "num_hdd         = 2"
   ]
  },
  {
   "cell_type": "code",
   "execution_count": 20,
   "metadata": {},
   "outputs": [],
   "source": [
    "# DRAM\n",
    "dram_capacity   = 16 # GB\n",
    "num_dram        = 24"
   ]
  },
  {
   "cell_type": "code",
   "execution_count": 21,
   "metadata": {},
   "outputs": [],
   "source": [
    "# Params\n",
    "ic_yield        = 0.9\n",
    "cpu_yield = 0.75"
   ]
  },
  {
   "cell_type": "code",
   "execution_count": 22,
   "metadata": {},
   "outputs": [],
   "source": [
    "CPU_Logic = Fab_Logic(gpa  = \"95\",\n",
    "                      carbon_intensity = \"loc_taiwan\",\n",
    "                      process_node = process_node,\n",
    "                      fab_yield=cpu_yield)\n",
    "\n",
    "HDD                = Fab_HDD(config  = \"Exos15e900\")\n",
    "DRAM               = Fab_DRAM(config = \"dell_lca\", fab_yield = ic_yield)"
   ]
  },
  {
   "cell_type": "code",
   "execution_count": 23,
   "metadata": {},
   "outputs": [],
   "source": [
    "CPU_Logic.set_area(cpu_area)\n",
    "DRAM.set_capacity(dram_capacity)\n",
    "HDD.set_capacity(hdd_capacity * 1000)\n",
    "\n",
    "DRAM_co2 = (DRAM.get_carbon()) * num_dram / 1000.\n",
    "HDD_co2  = (HDD.get_carbon())  * num_hdd  / 1000.\n",
    "CPU_co2   = (CPU_Logic.get_carbon()) * num_cpu / 1000.\n",
    "Mainboard_co2 = 128.67"
   ]
  },
  {
   "cell_type": "code",
   "execution_count": 24,
   "metadata": {},
   "outputs": [
    {
     "name": "stdout",
     "output_type": "stream",
     "text": [
      "--------------------------------\n",
      "ACT HDD 40.92\n",
      "ACT DRAM 614.8266666666666\n",
      "ACT CPU 80.13176533333333\n",
      "ACT TOTAL 864.5484319999998\n"
     ]
    }
   ],
   "source": [
    "print(\"--------------------------------\")\n",
    "print(\"ACT HDD\", HDD_co2)\n",
    "print(\"ACT DRAM\", DRAM_co2)\n",
    "print(\"ACT CPU\", CPU_co2)\n",
    "print(\"ACT TOTAL\", HDD_co2 + DRAM_co2 + CPU_co2 + Mainboard_co2)"
   ]
  }
 ],
 "metadata": {
  "kernelspec": {
   "display_name": "Python 3",
   "language": "python",
   "name": "python3"
  },
  "language_info": {
   "codemirror_mode": {
    "name": "ipython",
    "version": 3
   },
   "file_extension": ".py",
   "mimetype": "text/x-python",
   "name": "python",
   "nbconvert_exporter": "python",
   "pygments_lexer": "ipython3",
   "version": "3.11.0"
  }
 },
 "nbformat": 4,
 "nbformat_minor": 2
}
